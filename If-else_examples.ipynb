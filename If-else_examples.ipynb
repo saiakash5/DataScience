{
 "cells": [
  {
   "cell_type": "code",
   "execution_count": 1,
   "metadata": {},
   "outputs": [
    {
     "name": "stdout",
     "output_type": "stream",
     "text": [
      "Enter var1: 12\n"
     ]
    }
   ],
   "source": [
    "var_1 = int(input(\"Enter var1: \"))"
   ]
  },
  {
   "cell_type": "code",
   "execution_count": 2,
   "metadata": {},
   "outputs": [
    {
     "name": "stdout",
     "output_type": "stream",
     "text": [
      "Enter var2: 9\n"
     ]
    }
   ],
   "source": [
    "var_2 = int(input(\"Enter var2: \"))"
   ]
  },
  {
   "cell_type": "code",
   "execution_count": 3,
   "metadata": {},
   "outputs": [
    {
     "name": "stdout",
     "output_type": "stream",
     "text": [
      "Choose what kind of operation you want to perform\n",
      "1. Addition\n",
      "2. Subtraction\n",
      "3. Division\n",
      "4. Multiplication\n",
      "Enter option: 5\n"
     ]
    }
   ],
   "source": [
    "print(\"Choose what kind of operation you want to perform\")\n",
    "print(\"1. Addition\")\n",
    "print(\"2. Subtraction\")\n",
    "print(\"3. Division\")\n",
    "print(\"4. Multiplication\")\n",
    "option = int(input(\"Enter option: \"))"
   ]
  },
  {
   "cell_type": "code",
   "execution_count": 4,
   "metadata": {},
   "outputs": [
    {
     "name": "stdout",
     "output_type": "stream",
     "text": [
      "1. Addition\n",
      "2. Subtraction\n",
      "3. Division\n",
      "4. Multiplication\n",
      "Enter valid option: 3\n",
      "Division of var_1 with var_2:  1.3333333333333333\n"
     ]
    }
   ],
   "source": [
    "while True:\n",
    "    \n",
    "    if option == 1:\n",
    "        print(\"Addition of var_1 and Var_2: \",var_1+var_2)\n",
    "        break\n",
    "    elif option == 2:\n",
    "        print(\"Subtraction of var_1 and var_2: \", var_1-var_2)\n",
    "        break\n",
    "    elif option == 3:\n",
    "        if var_2!=0:\n",
    "            print(\"Division of var_1 with var_2: \",var_1/var_2)\n",
    "        else:\n",
    "            print(\"var_2 is zero\")\n",
    "        break\n",
    "    elif option == 4:\n",
    "        print(\"Multiplication of var_1 and var_2: \", var_1*var_2)\n",
    "        break\n",
    "    else:\n",
    "        print(\"1. Addition\")\n",
    "        print(\"2. Subtraction\")\n",
    "        print(\"3. Division\")\n",
    "        print(\"4. Multiplication\")\n",
    "        option = int(input(\"Enter valid option: \"))\n",
    "        "
   ]
  },
  {
   "cell_type": "markdown",
   "metadata": {
    "collapsed": true
   },
   "source": [
    "## Example 2"
   ]
  },
  {
   "cell_type": "code",
   "execution_count": 5,
   "metadata": {
    "collapsed": true
   },
   "outputs": [],
   "source": [
    "# Printing type of variable based on input"
   ]
  },
  {
   "cell_type": "code",
   "execution_count": null,
   "metadata": {
    "collapsed": true
   },
   "outputs": [],
   "source": []
  },
  {
   "cell_type": "code",
   "execution_count": 2,
   "metadata": {},
   "outputs": [
    {
     "name": "stdout",
     "output_type": "stream",
     "text": [
      "Enter any value: 123\n"
     ]
    }
   ],
   "source": [
    "type_var = int(input(\"Enter any value: \"))"
   ]
  },
  {
   "cell_type": "code",
   "execution_count": 3,
   "metadata": {},
   "outputs": [
    {
     "name": "stdout",
     "output_type": "stream",
     "text": [
      "type_var is of type  <class 'int'>\n"
     ]
    }
   ],
   "source": [
    "if isinstance(type_var,int):\n",
    "    print(\"type_var is of type \",type(type_var))\n",
    "elif isinstance(type_var,float):\n",
    "    print(\"type_var is of type \",type(type_var))\n",
    "elif isinstance(type_var,str):\n",
    "    print(\"type_var is of type \",type(type_var))\n",
    "elif isinstance(type_var,bool):\n",
    "    print(\"type_var is of type \",type(type_var))"
   ]
  },
  {
   "cell_type": "markdown",
   "metadata": {
    "collapsed": true
   },
   "source": [
    "## Example 3\n"
   ]
  },
  {
   "cell_type": "code",
   "execution_count": 4,
   "metadata": {
    "collapsed": true
   },
   "outputs": [],
   "source": [
    "# factorial of n"
   ]
  },
  {
   "cell_type": "code",
   "execution_count": 6,
   "metadata": {},
   "outputs": [],
   "source": [
    "def fact(n):\n",
    "    if n==1:\n",
    "        return 1\n",
    "    else:\n",
    "        return n*fact(n-1)\n"
   ]
  },
  {
   "cell_type": "code",
   "execution_count": 9,
   "metadata": {},
   "outputs": [
    {
     "data": {
      "text/plain": [
       "24"
      ]
     },
     "execution_count": 9,
     "metadata": {},
     "output_type": "execute_result"
    }
   ],
   "source": [
    "fact(4)"
   ]
  },
  {
   "cell_type": "code",
   "execution_count": null,
   "metadata": {
    "collapsed": true
   },
   "outputs": [],
   "source": []
  }
 ],
 "metadata": {
  "kernelspec": {
   "display_name": "Python 3",
   "language": "python",
   "name": "python3"
  },
  "language_info": {
   "codemirror_mode": {
    "name": "ipython",
    "version": 3
   },
   "file_extension": ".py",
   "mimetype": "text/x-python",
   "name": "python",
   "nbconvert_exporter": "python",
   "pygments_lexer": "ipython3",
   "version": "3.6.1"
  }
 },
 "nbformat": 4,
 "nbformat_minor": 2
}
